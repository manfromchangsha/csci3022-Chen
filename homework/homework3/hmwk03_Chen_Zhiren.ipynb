{
 "cells": [
  {
   "cell_type": "markdown",
   "metadata": {},
   "source": [
    "# Homework 3: Random Variables and Their Distributions\n",
    "***\n",
    "\n",
    "**Name**: \n",
    "\n",
    "***\n",
    "\n",
    "This assignment is due on Moodle by **5pm on Friday March 2nd**. Your solutions to theoretical questions should be done in Markdown/MathJax directly below the associated question.  Your solutions to computational questions should include any specified Python code and results as well as written commentary on your conclusions.  Remember that you are encouraged to discuss the problems with your instructors and classmates, but **you must write all code and solutions on your own**.  For a refresher on the course **Collaboration Policy** click [here](https://github.com/dblarremore/csci3022/blob/master/resources/syllabus.md#collaboration-policy).  \n",
    "\n",
    "**NOTES**: \n",
    "\n",
    "- Do **NOT** load or use any Python packages that are not available in Anaconda 3.6. \n",
    "- Some problems with code may be autograded.  If we provide a function API **do not** change it.  If we do not provide a function API then you're free to structure your code however you like. \n",
    "- Because you can technically evaluate notebook cells is a non-linear order, it's a good idea to do Cell $\\rightarrow$ Run All as a check before submitting your solutions.  That way if we need to run your code you will know that it will work as expected. \n",
    "- Submit only this Jupyter notebook to Moodle.  Do not compress it using tar, rar, zip, etc. \n",
    "\n",
    "### Work only 4 of the 5 problems below! Your choice."
   ]
  },
  {
   "cell_type": "code",
   "execution_count": 1,
   "metadata": {
    "collapsed": true,
    "scrolled": true
   },
   "outputs": [],
   "source": [
    "import pandas as pd\n",
    "import numpy as np\n",
    "import matplotlib.pylab as plt\n",
    "from scipy.special import binom\n",
    "%matplotlib inline"
   ]
  },
  {
   "cell_type": "markdown",
   "metadata": {},
   "source": [
    "### [25 points] Problem 1\n",
    "***\n",
    "\n",
    "Let $X$ be the lifespan (in years) of a BF Otterich Rugged Trail T/A tire under normal driving conditions, and suppose $X$ is described by the following probability density function: \n",
    "\n",
    "$$\n",
    "f(x) = \\left\\{ \n",
    "\\begin{array}{ll}\n",
    "\\dfrac{15}{c x^3} & 1 \\leq x \\leq 15 \\\\\n",
    "0 & \\textrm{otherwise}\n",
    "\\end{array}\n",
    "\\right.\n",
    "$$\n",
    "\n",
    "**Part A**: Determine the value of $c$ such that $f(x)$ is a valid PDF. "
   ]
  },
  {
   "cell_type": "markdown",
   "metadata": {
    "collapsed": true
   },
   "source": [
    "A PDF must meet 1) $f(x) \\geq 0 $ and 2)$ \\int_{-\\infty}^{\\infty} f(x)\\, dx = 1$\n",
    "\n",
    "To meet the first condition, $c$ must greater than 0. So we have $c \\geq 0 .$\n",
    "\n",
    "Secondly, $\\int_{-\\infty}^{\\infty} f(x)\\,dx$ should equal to 1. That is, $\\int_{1}^{15} f(x)\\,dx = 1$\n",
    "\n",
    "So we have $\\frac {15}{c} \\int_{1}^{15} {\\dfrac {1}{x^3}}\\,dx = 1$ \n",
    "\n",
    "$\\frac{c}{15} = \\frac{1}{2} (1-\\frac {1}{225})$\n",
    "\n",
    "so $c = \\frac {112}{15}$\n"
   ]
  },
  {
   "cell_type": "markdown",
   "metadata": {},
   "source": [
    "**Part B**: Compute the cumulative distribution function $F(y)$ for $X$. "
   ]
  },
  {
   "cell_type": "markdown",
   "metadata": {},
   "source": [
    "From part A we know $c = \\frac {112}{15}$\n",
    "\n",
    "So \n",
    "$$\n",
    "F(y) =\\left\\{\n",
    "\\begin{array}{11}\n",
    "\\frac{-225}{224y^2}+\\frac{225}{224} & 1 \\leq y \\leq 15\\\\\n",
    "0 & \\textrm{otherwise}\n",
    "\\end {array}\n",
    "\\right.\n",
    "$$"
   ]
  },
  {
   "cell_type": "markdown",
   "metadata": {},
   "source": [
    "**Part C**: Use the cdf you computed in **Part B** to find the probability that a single tire goes longer than 5 years without failing. "
   ]
  },
  {
   "cell_type": "markdown",
   "metadata": {
    "collapsed": true
   },
   "source": [
    "To find $P(y\\geq 5) = 1 - F(5) = 1- \\frac {216}{224} = \\frac {8}{224}$"
   ]
  },
  {
   "cell_type": "markdown",
   "metadata": {},
   "source": [
    "**Part D**: Use the cdf you computed in **Part B** to determine the number of years within which $62.5\\%$ of all tires will need to be replaced. In other words, determine the 62.5th percentile of the distribution of $X$. "
   ]
  },
  {
   "cell_type": "markdown",
   "metadata": {
    "collapsed": true
   },
   "source": [
    "$ P(replace) = 0.625 = F(r)$ \n",
    "\n",
    "$\\frac {-225}{224*r^2} + \\frac{225}{224}  = 0.625$\n",
    "\n",
    "$r = 1.63$ \n",
    "\n",
    "So it should be 1.63 years."
   ]
  },
  {
   "cell_type": "markdown",
   "metadata": {},
   "source": [
    "**Part E**: What is the probability that all four BF Otterich Rugged Trail T/A tires on a vehicle last longer than 5 years without failing? "
   ]
  },
  {
   "cell_type": "markdown",
   "metadata": {
    "collapsed": true
   },
   "source": [
    "According to Part C, $P(y \\geq 5 ) = \\frac {8}{225}$\n",
    "\n",
    "So $P(4tires\\geq 5) = P(y\\geq 5)^4 = 1.6 \\times 10^{-6}$"
   ]
  },
  {
   "cell_type": "markdown",
   "metadata": {},
   "source": [
    "### [25 points] Problem 2\n",
    "***\n",
    "\n",
    "You are a data-driven transportation engineer investigating the effect that a particular [vertical lift bridge](https://en.wikipedia.org/wiki/Vertical-lift_bridge) has on city traffic.  Every time a boat passes under the bridge, cars must stop while the bridge is raised to accommodate the height of the boat.  As both boat and car traffic increases, city planners are considering building a new taller bridge that will never impede the flow of traffic. As part of a larger simulation of traffic congestion, you need to decide how to model the arrival of boats at the bridge.  From your Intro to Data Science class you remember that the time _between_ independent arrivals are usually modeled by an Exponential distribution.  Finally, you have access to a report that says on average 10 boats cross under the bridge per day.\n",
    "\n",
    "Answer the following questions about this scenario. **Note** that for **Parts B-D** you should clearly express the computation you're doing with math, but feel free to do any fancy function evaluations with Python. \n",
    "\n",
    "**Part A**:  Assuming the between-boat times do in-fact follow $Exp(10)$, what distribution would you expect the **number** of boats that cross under the bridge on a given day to follow?  What are the parameter(s) of the distribution? "
   ]
  },
  {
   "cell_type": "markdown",
   "metadata": {
    "collapsed": true
   },
   "source": [
    "The number of boats that cross under the bridge on a given day should follow the Poisson distribution. \n",
    "\n",
    "And the parameter is $\\lambda = 10 $"
   ]
  },
  {
   "cell_type": "markdown",
   "metadata": {},
   "source": [
    "**Part B**:  What is the probability that 13 boats cross under the bridge on a particular day?"
   ]
  },
  {
   "cell_type": "markdown",
   "metadata": {
    "collapsed": true
   },
   "source": [
    "$ P (X=13) = \\frac {{\\lambda}^{13} e^{-\\lambda}}{13!} = \\frac {{10}^{13} e^{-10}}{13!} = 0.07291$"
   ]
  },
  {
   "cell_type": "markdown",
   "metadata": {},
   "source": [
    "**Part C**:  What is the probability that 8 boats or fewer cross under the bridge on a particular day?"
   ]
  },
  {
   "cell_type": "markdown",
   "metadata": {
    "collapsed": true
   },
   "source": [
    "We want to find $P (X \\leq 8)  $\n",
    "\n",
    "The CDF of Poisson distribution is $e^{-\\lambda} \\sum_{i=0}^{|k|} \\frac{{\\lambda}^i}{i!}$\n",
    "\n",
    "so we have $P (X\\leq 8) = e^{-10} \\sum_{i=0}^{8} \\frac{{10}^i}{i!} = 0.3328$"
   ]
  },
  {
   "cell_type": "markdown",
   "metadata": {},
   "source": [
    "**Part D**: What is the probability that between 2 and 4 hours pass between two boat crossings? "
   ]
  },
  {
   "cell_type": "markdown",
   "metadata": {
    "collapsed": true
   },
   "source": [
    "By using Exponential Distribution, we can compute this.\n",
    "\n",
    "$ \\lambda = \\frac{2}{24} \\times 10 \\times 2 = 2.4$\n",
    "\n",
    "$\\int_{2}^{4} {\\lambda e^{-\\lambda x}}\\,dx$"
   ]
  },
  {
   "cell_type": "markdown",
   "metadata": {},
   "source": [
    "**Part F**: Write a function boat_count that takes as its sole argument the rate parameter $\\lambda$ with units boats per day. Your function should simulate boat arrivals at the bridge by sampling between-boat times from $Exp(\\lambda)$ via Numpy's [random.exponential](https://docs.scipy.org/doc/numpy-1.13.0/reference/generated/numpy.random.exponential.html) function and return the number of boats that pass under the bridge on a single simulated day. \n",
    "\n",
    "**Note**: Do not change the API for this function. In other words, please keep the name of the function, its input parameter, and its desired output the same. Of course, the inner workings of this function and the actual value that it returns are in your hands!"
   ]
  },
  {
   "cell_type": "code",
   "execution_count": 2,
   "metadata": {},
   "outputs": [
    {
     "data": {
      "image/png": "[encoded data removed]",
      "text/plain": [
       "<matplotlib.figure.Figure at 0x103a92b70>"
      ]
     },
     "metadata": {},
     "output_type": "display_data"
    }
   ],
   "source": [
    "def boat_count(lam):\n",
    "\n",
    "    x =np.random.exponential(scale=1/lam,size = 10000)\n",
    "    fig, ax = plt.subplots(figsize=(12, 12))\n",
    "    ax.hist(x, edgecolor=\"white\")\n",
    "    plt.show()\n",
    "boat_count(10)"
   ]
  },
  {
   "cell_type": "markdown",
   "metadata": {},
   "source": [
    "**Part G**: Write a function boat_count_sim that takes as arguments the rate parameter $\\lambda$ with units boats per day and an integer number of days to simulate. Your function should use the function you wrote in **Part F** to simulate many independent days of boat crossings and estimate the probability that 8 boats or fewer cross under the bridge on a particular day. For $\\lambda = 10$, does your estimate agree with the by-hand computation you did in **Part C**?  \n",
    "\n",
    "**Note**: Do not change the API for this function. "
   ]
  },
  {
   "cell_type": "code",
   "execution_count": 3,
   "metadata": {
    "collapsed": true
   },
   "outputs": [],
   "source": [
    "def boat_count_sim(lam, num_days=int(1e3)):\n",
    "    return 1.0 "
   ]
  },
  {
   "cell_type": "markdown",
   "metadata": {},
   "source": [
    "**Part H**: Write a function boat_time_sim that takes as arguments the rate parameter $\\lambda$ with units boats per day and an integer number of boat arrivals to simulate. Your function should sample boat arrivals via [np.random.exponential](https://docs.scipy.org/doc/numpy-1.13.0/reference/generated/numpy.random.exponential.html) and estimate the probability that boats arrive between 2 and 4 hours apart.  For $\\lambda = 10$, does your estimate agree with the by-hand computation you did in **Part D**?  \n",
    "\n",
    "**Note**: Do not change the API for this function.  "
   ]
  },
  {
   "cell_type": "code",
   "execution_count": 4,
   "metadata": {
    "collapsed": true
   },
   "outputs": [],
   "source": [
    "def boat_time_sim(lam, num_boats=int(1e3)): \n",
    "    return 1.0 "
   ]
  },
  {
   "cell_type": "markdown",
   "metadata": {},
   "source": [
    "### [25 points] Problem 3 \n",
    "***\n",
    "\n",
    "Let $X =$ the leading digit of a randomly selected number from a large accounting\n",
    "ledger. For example, if we randomly draw the number \\$20,695, then $X = 2.$\n",
    "People who make up numbers to commit accounting fraud tend to give $X$ a\n",
    "(discrete) uniform distribution, i.e., $P(X = x) = \\frac{1}{9}$, for $x \\in \\{1, ..., 9\\}$. However,\n",
    "there is empirical evidence that suggests that _naturally occurring_ numbers (e.g.,\n",
    "numbers in a non-fraudulent accounting ledgers) have leading digits that do not\n",
    "follow a uniform distribution. Instead, they follow a distribution defined by the following probability mass function:\n",
    "\n",
    "$$\n",
    "f(x) = \\log_{10}\\left( \\frac{x+1}{x} \\right) \\quad \\textrm{for } x = 1, 2, \\ldots, 9\n",
    "$$"
   ]
  },
  {
   "cell_type": "markdown",
   "metadata": {},
   "source": [
    "**Part A**: Write a function pmf_natural that implements $f(x)$. Your function should take in an integer $x$ and return $f(x) = P(X = x)$.  Use your function to argue that $f(x)$ is a well-defined probability mass function. "
   ]
  },
  {
   "cell_type": "code",
   "execution_count": 5,
   "metadata": {},
   "outputs": [
    {
     "name": "stdout",
     "output_type": "stream",
     "text": [
      "0.301029995664\n",
      "0.176091259056\n",
      "0.124938736608\n",
      "0.0969100130081\n",
      "0.0791812460476\n",
      "0.0669467896306\n",
      "0.0579919469777\n",
      "0.0511525224474\n",
      "0.0457574905607\n",
      "1.0\n"
     ]
    }
   ],
   "source": [
    "def pmf_natural(x):\n",
    "    if (x >=1 and x <= 9):\n",
    "        return np.log10((x+1)/x)\n",
    "    return 1.0 \n",
    "\n",
    "sum = 0\n",
    "for i in range(1,10):\n",
    "    x = pmf_natural(i)\n",
    "    print(x)\n",
    "    sum = x + sum\n",
    "print(sum)\n",
    "\n",
    "#1.Every f(x) is greater than 0\n",
    "#2.The sum of probability is 1\n",
    "#So we can say this is a well-defined probability mass function."
   ]
  },
  {
   "cell_type": "markdown",
   "metadata": {},
   "source": [
    "**Part B**: Use the function you wrote above to make stacked bar plots describing the pmf of the naturally occurring numbers as well as the discrete uniform distribution.  Make sure that the $x$- and $y$-limits on your plots are the same so that the two distributions are easy to compare. "
   ]
  },
  {
   "cell_type": "code",
   "execution_count": 6,
   "metadata": {},
   "outputs": [
    {
     "name": "stdout",
     "output_type": "stream",
     "text": [
      "0.301029995664\n",
      "0.176091259056\n",
      "0.124938736608\n",
      "0.0969100130081\n",
      "0.0791812460476\n",
      "0.0669467896306\n",
      "0.0579919469777\n",
      "0.0511525224474\n",
      "0.0457574905607\n"
     ]
    },
    {
     "data": {
      "image/png": "[encoded data removed]",
      "text/plain": [
       "<matplotlib.figure.Figure at 0x10b00a898>"
      ]
     },
     "metadata": {},
     "output_type": "display_data"
    }
   ],
   "source": [
    "data1 = np.array([])\n",
    "data2 = np.array([])\n",
    "for ii in range(1,10):\n",
    "    x = pmf_natural(ii)\n",
    "    data1 = np.append(data1,x)\n",
    "    print (x)\n",
    "    y = 1/9\n",
    "    data2 = np.append(data2,y)\n",
    "ind = np.arange(9)\n",
    "width = 0.35\n",
    "\n",
    "p1 = plt.bar(ind, data1 , width,bottom = data2, color = 'r')\n",
    "p2 = plt.bar(ind, data2, width, color = 'g')\n",
    "\n",
    "plt.ylabel('Probability')\n",
    "plt.title('Comparing probability between two distribution')\n",
    "plt.xticks(ind, ('1', '2', '3', '4', '5','6','7','8','9'))\n",
    "plt.yticks(np.arange(0, 0.5, 0.1))\n",
    "plt.legend((p1[0], p2[0]), ('pmf', 'uniform'))\n",
    "\n",
    "plt.show()"
   ]
  },
  {
   "cell_type": "markdown",
   "metadata": {},
   "source": [
    "**Part C**: Write a function cdf_natural that implements the cumulative distribution function $F(y)$ for $X$ and use it to compute the probability that the leading digit in a number is at most 4 and at most 5. "
   ]
  },
  {
   "cell_type": "code",
   "execution_count": 7,
   "metadata": {},
   "outputs": [
    {
     "name": "stdout",
     "output_type": "stream",
     "text": [
      "P(at_most_4) = 0.698970004336\n",
      "P(at_most_5) = 0.778151250384\n"
     ]
    }
   ],
   "source": [
    "def cdf_natural(y):\n",
    "    cm = 0\n",
    "    for i in range(y):\n",
    "        cm = cm+pmf_natural(i+1)\n",
    "    if (y > 0 and y<9):\n",
    "        return cm\n",
    "    else:\n",
    "        return 1.0  \n",
    "\n",
    "print (\"P(at_most_4) =\",cdf_natural(4))\n",
    "print (\"P(at_most_5) =\",cdf_natural(5))"
   ]
  },
  {
   "cell_type": "markdown",
   "metadata": {},
   "source": [
    "**Part D**: The data in tax_data.txt contains the taxable income for individuals in 1978. Use Pandas and the information from **Parts A-D** to determine whether or not the dataset is likely fraudulent.  In addition to code and any graphical summaries, make sure to clearly justify your conclusion in words. "
   ]
  },
  {
   "cell_type": "code",
   "execution_count": 8,
   "metadata": {},
   "outputs": [
    {
     "name": "stdout",
     "output_type": "stream",
     "text": [
      "P(first_digit_1) is  0.3278721146192624\n",
      "P(first_digit_2) is  0.21408861767046963\n",
      "P(first_digit_3) is  0.12356725921995224\n",
      "P(first_digit_4) is  0.089539665693818\n",
      "P(first_digit_5) is  0.07224728044574158\n",
      "P(first_digit_6) is  0.052149111170071635\n",
      "P(first_digit_7) is  0.04111170071637039\n",
      "P(first_digit_8) is  0.03936057309631202\n",
      "P(first_digit_9) is  0.04006367736800212\n"
     ]
    }
   ],
   "source": [
    "\n",
    "df = pd.read_csv('tax_data.txt',sep = '\\t',na_values=0,na_filter=True )\n",
    "df = df.dropna()\n",
    "df\n",
    "\n",
    "data = df.as_matrix(columns=['Tax Incomes'])\n",
    "summary = np.array([0,0,0,0,0,0,0,0,0])\n",
    "for z in range(len(data)):\n",
    "    number = int(data[z])\n",
    "    init = int(str(number)[:1])\n",
    "    summary[init-1] = summary[init-1] + 1\n",
    "print (\"P(first_digit_1) is \" ,(int(summary[0])/len(data)))\n",
    "print (\"P(first_digit_2) is \" ,(int(summary[1])/len(data)))\n",
    "print (\"P(first_digit_3) is \" ,(int(summary[2])/len(data)))\n",
    "print (\"P(first_digit_4) is \" ,(int(summary[3])/len(data)))\n",
    "print (\"P(first_digit_5) is \" ,(int(summary[4])/len(data)))\n",
    "print (\"P(first_digit_6) is \" ,(int(summary[5])/len(data)))\n",
    "print (\"P(first_digit_7) is \" ,(int(summary[6])/len(data)))\n",
    "print (\"P(first_digit_8) is \" ,(int(summary[7])/len(data)))\n",
    "print (\"P(first_digit_9) is \" ,(int(summary[8])/len(data)))\n",
    "\n",
    "#Comparing to the distribution I showed in PartB, theprobability of each digits are similiar \n",
    "#with the f(x), we can conclude that the data was not fraudulent."
   ]
  },
  {
   "cell_type": "markdown",
   "metadata": {},
   "source": [
    "### [25 points] Problem 4\n",
    "***\n",
    "\n",
    "You are the team manager for the CU intramural Quidditch team, the Boulder Beaters, and you've just made it to the national championship series against the Stanford Snitching Snitches. The typical Quidditch championship is a best of 11 series, so the first team to win 6 matches is declared the winner.  Furthermore, based on a rigorous statistical analysis of regular season play, the probability that the Boulder Beaters win any one match against the Snitching Snitches is given by $p = 0.55$.  \n",
    "\n",
    "**Part A**: What is the probability that you win the 11-game series on the 8th match played? \n"
   ]
  },
  {
   "cell_type": "markdown",
   "metadata": {
    "collapsed": true
   },
   "source": [
    "$\\dbinom{8-1}{6-1} p^{6}{1-p}^{2}=\\binom{7}{5}* {0.55}^{6}*{0.45}^{2} \\approx 0.118 $"
   ]
  },
  {
   "cell_type": "markdown",
   "metadata": {},
   "source": [
    "**Part B**: What is the probability that you win the 11-game series in any valid number of matches? "
   ]
  },
  {
   "cell_type": "markdown",
   "metadata": {
    "collapsed": true
   },
   "source": [
    "Suppose that number of match is w:\n",
    "$P(X=w) =\\dbinom{w-1}{6-1} p^{6}{(1-p)}^{w-6} $"
   ]
  },
  {
   "cell_type": "markdown",
   "metadata": {},
   "source": [
    "**Part C**: The winner of the champsionship will take home \\$10,000 to use for equipment and victory parties in the following season. Because the stakes are so high, you've decided to hire a famous Quidditch consultant, Bludger Bob, to help you prepare for each match. With Bob's help your probability of winning any given match increases to $p = 0.7$.  Bludger Bob charges a fee of \\$100 per game, but as a testament to his confidence in his abilities, only charges you the \\$100 for games that you win and only if you win the series.  So, if you play a 11-game series and win you will take home \\$10,000 less \\$600 for Bludger Bob's fees, for a total payout of \\$9,400.  What is the expected payout for an 11-game series?   "
   ]
  },
  {
   "cell_type": "markdown",
   "metadata": {
    "collapsed": true
   },
   "source": [
    "We only need to consider the situation that we win the series, which is, we will get \\$9400 or \\$0 .\n",
    "\n",
    "$P(winning) = P(W_6)+P(W_7)+P(W_8)+P(W_9)+P(W_10)+P(W_11)$\n",
    "\n",
    "According to the part B and code below, $P(winning) \\approx 0.922$\n",
    "\n",
    "So the expected should be $ P(winning) \\times 9400 + (1-P(winning))*0 = 8666.8$"
   ]
  },
  {
   "cell_type": "code",
   "execution_count": 12,
   "metadata": {},
   "outputs": [
    {
     "name": "stdout",
     "output_type": "stream",
     "text": [
      "0.92177520904\n"
     ]
    },
    {
     "data": {
      "text/plain": [
       "0.92177520904"
      ]
     },
     "execution_count": 12,
     "metadata": {},
     "output_type": "execute_result"
    }
   ],
   "source": [
    "import math\n",
    "\n",
    "def nCr(n,r):\n",
    "    f = math.factorial\n",
    "    return f(n) / f(r) / f(n-r)\n",
    "def prob(r,p):\n",
    "    win = (r+1)/2\n",
    "    sum = 0 \n",
    "    pb = 0 \n",
    "    for i in range (int(win),r+1):\n",
    "        pb = nCr(i-1,win-1)\n",
    "        sum = sum+ (pb*(p**win)*((1-p)**(i-win)))\n",
    "    print(sum)\n",
    "    return sum\n",
    "prob(11,0.7)"
   ]
  },
  {
   "cell_type": "markdown",
   "metadata": {},
   "source": [
    "**Part D**: This year the National Intramural Quidditch Association (NIQA) is implementing an experimental rule.  As the team with the best record in the regular season you will get to choose the length of the championship series.  Specifically, you can choose the series length to be anywhere from $N=3, 5, 7, \\ldots, 99$ games long.  Assuming that you plan to use Bludger Bob's services and considering the fact that you have a better than even chance of winning each game, explain the trade-offs between choosing a short series vs. a long series in terms of Expected Payout. \n"
   ]
  },
  {
   "cell_type": "code",
   "execution_count": 13,
   "metadata": {},
   "outputs": [
    {
     "name": "stdout",
     "output_type": "stream",
     "text": [
      "0.92177520904\n",
      "0.9376247882007999\n",
      "0.949987459946224\n",
      "0.9597230639457452\n",
      "0.967446643118699\n",
      "0.9999844522002385\n"
     ]
    },
    {
     "data": {
      "text/plain": [
       "0.9999844522002385"
      ]
     },
     "execution_count": 13,
     "metadata": {},
     "output_type": "execute_result"
    }
   ],
   "source": [
    "#Using code in part C: \n",
    "prob(11,0.7)\n",
    "prob(13,0.7)\n",
    "prob(15,0.7)\n",
    "prob(17,0.7)\n",
    "prob(19,0.7)\n",
    "prob(99,0.7)\n",
    "\n",
    "#As we can see, the more game we play, the win-rate is higher, which means we would have a higher \n",
    "#payout expectation "
   ]
  },
  {
   "cell_type": "markdown",
   "metadata": {},
   "source": [
    "**Part E**: Write a function optimal_series that takes in $p$, the probability that your team wins an individual game, then computes the Expected Payout for each series of length $N=3, 5, 7, \\ldots 99$ and returns the optimal series length.  In addition to returning the optimal series length, your function should also produce a plot of Expected Payout vs Series Length. You may write any additional helper functions that you like, but you should not change the API for the function optimal_series. "
   ]
  },
  {
   "cell_type": "code",
   "execution_count": 14,
   "metadata": {},
   "outputs": [
    {
     "name": "stdout",
     "output_type": "stream",
     "text": [
      "0.7839999999999999\n",
      "0.8369199999999999\n",
      "0.873964\n",
      "0.9011913399999999\n",
      "0.92177520904\n",
      "0.9376247882007999\n",
      "0.949987459946224\n",
      "0.9597230639457452\n",
      "0.967446643118699\n",
      "0.9736100592987161\n",
      "0.978551998453966\n",
      "0.9825302594739421\n",
      "0.9857434702977692\n",
      "0.9883461710650693\n",
      "0.9904595640881168\n",
      "0.9921793376606213\n",
      "0.9935814589379696\n",
      "0.9947265246478038\n",
      "0.9956630678652156\n",
      "0.9964300967602759\n",
      "0.9970590604542257\n",
      "0.9975753824684401\n",
      "0.9979996644714253\n",
      "0.9983486364188809\n",
      "0.9986359101260263\n",
      "0.9988725794647588\n",
      "0.9990677001862475\n",
      "0.9992286747814754\n",
      "0.9993615620852604\n",
      "0.9994713269981865\n",
      "0.9995620423875148\n",
      "0.9996370526750653\n",
      "0.9996991066402208\n",
      "0.9997504654219701\n",
      "0.9997929904932583\n",
      "0.9998282154273096\n",
      "0.999857404521309\n",
      "0.9998816007439668\n",
      "0.9999016649962935\n",
      "0.9999183082935991\n",
      "0.9999321181710209\n",
      "0.999943580369282\n",
      "0.9999530966594657\n",
      "0.9999609995059052\n",
      "0.9999675641370136\n",
      "0.9999730184892084\n",
      "0.9999775514040329\n",
      "0.9999813193894806\n",
      "0.9999844522002385\n",
      "[ 7369.6         7867.048       8215.2616      8471.198596    8664.68696498\n",
      "  8813.67300909  8929.88212349  9021.39680109  9093.99844532  9151.93455741\n",
      "  9198.38878547  9235.78443906  9265.9886208   9290.45400801  9310.31990243\n",
      "  9326.48577401  9339.66571402  9350.42933169  9359.23283793  9366.44290955\n",
      "  9372.35516827  9377.2085952   9381.19684603  9384.47718234  9387.17755518\n",
      "  9389.40224697  9391.23638175  9392.74954295  9393.9986836   9395.03047378\n",
      "  9395.88319844  9396.58829515  9397.17160242  9397.65437497  9398.05411064\n",
      "  9398.38522502  9398.6596025   9398.88704699  9399.07565097  9399.23209796\n",
      "  9399.36191081  9399.46965547  9399.5591086   9399.63339536  9399.69510289\n",
      "  9399.7463738   9399.7889832   9399.82440226  9399.85385068]\n"
     ]
    },
    {
     "data": {
      "text/plain": [
       "1"
      ]
     },
     "execution_count": 14,
     "metadata": {},
     "output_type": "execute_result"
    }
   ],
   "source": [
    "def optimal_series(p):\n",
    "    payout = np.array = ([])\n",
    "    exp = 0\n",
    "    for zz in range(3,100,2):\n",
    "        exp = (prob(zz,p))*9400\n",
    "        payout = np.append(payout,exp)\n",
    "    print (payout)\n",
    "    \n",
    "    return 1\n",
    "\n",
    "\n",
    "optimal_series(0.7)\n",
    "\n"
   ]
  },
  {
   "cell_type": "markdown",
   "metadata": {},
   "source": [
    "### [25 points] Problem 5\n",
    "***\n",
    "\n",
    "The card game \"War\" is fun for small children. The basic rules are [here](https://www.bicyclecards.com/how-to-play/war/), but see the list below. Assume that the value of each card in the deck, in decreasing order, is A K Q J 10 9 8 7 6 5 4 3 2. For example, Q is of higher value than J. \n",
    "\n",
    "Create a simulation of the game War. Your simulation must:\n",
    "\n",
    "- initialize a single deck of 52 standard cards, shuffled.\n",
    "- deal half of those cards to each player.\n",
    "- simulate the game of War between two players until one player has all 52 cards, while recording the number of rounds that have passed.\n",
    "- for counting purposes, a round ends when the winner places cards on the bottom of their stack. \n",
    "- if a player runs out of cards mid-War, that player loses. \n",
    "- when cards are collected to be placed at the bottom of a deck, they are scraped from the table in a way that randomly shuffles them.  "
   ]
  },
  {
   "cell_type": "markdown",
   "metadata": {
    "collapsed": true
   },
   "source": [
    "**Part A**: For any fixed order of the cards, the game is completely non-random. This means that shuffling the deck randomly makes the duration of the game a random variable. Use your simulation to compute the expected value of the duration of a game of war. "
   ]
  },
  {
   "cell_type": "code",
   "execution_count": null,
   "metadata": {
    "collapsed": true
   },
   "outputs": [],
   "source": []
  },
  {
   "cell_type": "markdown",
   "metadata": {
    "collapsed": true
   },
   "source": [
    "**Part B**: What happens to the expected duration if the K, Q, and J cards are all now assumed to have _equal_ rank?"
   ]
  },
  {
   "cell_type": "code",
   "execution_count": null,
   "metadata": {
    "collapsed": true
   },
   "outputs": [],
   "source": []
  },
  {
   "cell_type": "markdown",
   "metadata": {},
   "source": [
    "**Part C**: Suppose that before the game starts, Player 1 gives all of their 2s and 3s to Player 2, and Player 2 gives all their As and Ks to Player 1. Does this tend to make the game longer or shorter?"
   ]
  },
  {
   "cell_type": "code",
   "execution_count": null,
   "metadata": {
    "collapsed": true
   },
   "outputs": [],
   "source": []
  }
 ],
 "metadata": {
  "kernelspec": {
   "display_name": "Python 3",
   "language": "python",
   "name": "python3"
  },
  "language_info": {
   "codemirror_mode": {
    "name": "ipython",
    "version": 3
   },
   "file_extension": ".py",
   "mimetype": "text/x-python",
   "name": "python",
   "nbconvert_exporter": "python",
   "pygments_lexer": "ipython3",
   "version": "3.6.3"
  }
 },
 "nbformat": 4,
 "nbformat_minor": 2
}
