{
 "cells": [
  {
   "cell_type": "markdown",
   "metadata": {},
   "source": [
    "\n",
    "# Homework 4: More Simulation and the Central Limit Theorem \n",
    "***\n",
    "\n",
    "**Name**: \n",
    "\n",
    "***\n",
    "\n",
    "This assignment is due on Moodle by **5pm on Friday March 16th**. Your solutions to theoretical questions should be done in Markdown/MathJax directly below the associated question.  Your solutions to computational questions should include any specified Python code and results as well as written commentary on your conclusions.  Remember that you are encouraged to discuss the problems with your instructors and classmates, but **you must write all code and solutions on your own**.  For a refresher on the course **Collaboration Policy** click [here](https://github.com/dblarremore/csci3022/blob/master/resources/syllabus.md#collaboration-policy).\n",
    "\n",
    "**NOTES**: \n",
    "\n",
    "- Do **NOT** load or use any Python packages that are not available in Anaconda 3.6. \n",
    "- Some problems with code may be autograded.  If we provide a function API **do not** change it.  If we do not provide a function API then you're free to structure your code however you like. \n",
    "- Because you can technically evaluate notebook cells is a non-linear order, it's a good idea to do Cell $\\rightarrow$ Run All as a check before submitting your solutions.  That way if we need to run your code you will know that it will work as expected. \n",
    "- Submit only this Jupyter notebook to Moodle.  Do not compress it using tar, rar, zip, etc. "
   ]
  },
  {
   "cell_type": "code",
   "execution_count": 3,
   "metadata": {
    "collapsed": true,
    "scrolled": true
   },
   "outputs": [],
   "source": [
    "import numpy as np\n",
    "import matplotlib.pylab as plt\n",
    "import pandas as pd\n",
    "%matplotlib inline"
   ]
  },
  {
   "cell_type": "markdown",
   "metadata": {},
   "source": [
    "### [35 points] Problem 1 - Monte Carlo Estimation of Definite Integrals \n",
    "***\n",
    "\n",
    "One really cool application of random variables is using them to approximate integrals/area under a curve.  This method of approximating integrals is used constantly in computational science to approximate really difficult integrals that we never want to do by hand.  In this exercise you'll figure out how we can do this in practice and test your method on a very simple integral. "
   ]
  },
  {
   "cell_type": "markdown",
   "metadata": {},
   "source": [
    "**Part A** Compute by-hand, the integral $f(x) = \\sin(x)$ for $0 \\leq x \\leq \\pi$."
   ]
  },
  {
   "cell_type": "markdown",
   "metadata": {
    "collapsed": true
   },
   "source": [
    "$\\int_{0}^{\\pi} sin(x)\\, dx = F(x) = - cos(\\pi) - (-cos(0)) = 2$"
   ]
  },
  {
   "cell_type": "markdown",
   "metadata": {},
   "source": [
    "**Part B**: Suppose we sample a random variable $X$ from $U(0,\\pi)$ and another random variable $Y$ from $U(0,1)$ and think of them as $x$- and $y$-coordinates of a point in the box $[0,\\pi] \\times [0,1]$.  If we compute the ratio of points that fall under the curve $f(x)$ to the total points sampled, what does this value estimate? "
   ]
  },
  {
   "cell_type": "markdown",
   "metadata": {
    "collapsed": true
   },
   "source": [
    "This value estimates the ratio of integral of $f(x)$ to the total area($\\pi$). That is, if we use this value times $\\pi$, we will get the estimation of integral of f(x)."
   ]
  },
  {
   "cell_type": "markdown",
   "metadata": {},
   "source": [
    "**Part C**: How could we modify the process outlined in **Part B** so that our estimator estimates the value of the desired integral? "
   ]
  },
  {
   "cell_type": "markdown",
   "metadata": {
    "collapsed": true
   },
   "source": [
    "Firstly, we are sampling two random variables X and Y, and (X,Y) would be coordinates of points. Then, we count how many points are below the curve of f(x) and how many points above the curve. Then we will get the ratio, and multiply the ratio by $\\pi$, we will get the estimation of the desired integral."
   ]
  },
  {
   "cell_type": "markdown",
   "metadata": {},
   "source": [
    "**Part D** Write a function integrate that takes as arguments the number of points to sample and a boolean flag isPlot and approximates the definite integral of $f(x)$ from $0$ to $\\pi$ by sampling $X$ from $U(0,\\pi)$ and $Y$ from $U(0,1)$. Your function should perform 3 tasks: \n",
    "\n",
    "1. Return the estimate of the value of the integral. \n",
    "2. Return the sample variance of the random variable being simulated using the np.var function.  \n",
    "4. If isPlot is True, plot the curve $f(x)$ as well as the location of the points $(X,Y)$, colored according to whether they fall above or below the curve. \n",
    "\n",
    "Run your simulation with isPlot=True for $1K$ samples so we can see your plot. Then, run your simulation (with the isPlot=False) with at least $10K$ samples and estimate the value of the given integral.  Does your estimate agree with the exact value of the integral you computed in **Part A**? "
   ]
  },
  {
   "cell_type": "code",
   "execution_count": 14,
   "metadata": {},
   "outputs": [
    {
     "data": {
      "text/plain": [
       "(2.018159120666083, 0.22972223999999997)"
      ]
     },
     "execution_count": 14,
     "metadata": {},
     "output_type": "execute_result"
    }
   ],
   "source": [
    "def integrate(num_samples=int(1e2), isPlot=False):\n",
    "    # TO DO  \n",
    "    estimate = 1.0 \n",
    "    sample_var = 1.0 \n",
    "    data = np.empty(shape=[0,2])\n",
    "    outcomes = np.zeros(num_samples)\n",
    "    n_in = 0\n",
    "    X = 0\n",
    "    Y = 0\n",
    "    for i in range (num_samples):\n",
    "        X = np.random.uniform(0,np.pi)\n",
    "        Y = np.random.uniform(0,1)\n",
    "        if ( Y < np.sin(X)):\n",
    "            outcomes[i] = 1\n",
    "            n_in +=1\n",
    "            data = np.append(data,[[X,Y]],axis = 0)\n",
    "            if (isPlot == True):\n",
    "                plt.scatter(X,Y,c = 'red')\n",
    "        else:\n",
    "            outcomes[i] = 0\n",
    "            if (isPlot == True):\n",
    "                plt.scatter(X,Y,c = 'blue')\n",
    "    sample_var = np.var(outcomes)\n",
    "    estimate = (n_in/num_samples)*np.pi\n",
    "    return estimate, sample_var\n",
    "#integrate(1000,True)\n",
    "integrate(10000,False)\n"
   ]
  },
  {
   "cell_type": "markdown",
   "metadata": {},
   "source": [
    "My estimate agree with the exact value of the integral I computed in Part A."
   ]
  },
  {
   "cell_type": "markdown",
   "metadata": {},
   "source": [
    "**Part E**: In the simulation above, what is distribution of the random variable we're actually sampling and what is/are its parameters?  "
   ]
  },
  {
   "cell_type": "markdown",
   "metadata": {
    "collapsed": true
   },
   "source": [
    "Since we only care about if the point drop down the curve or not, so this should be Bernoulli distribution. The parameter should be p, which is the probability that the point is under the curve."
   ]
  },
  {
   "cell_type": "markdown",
   "metadata": {},
   "source": [
    "**Part F**: Compute the expected value of the random variable you described in **Part D** by hand.  Does this value agree with the exact value of the integral you computed in **Part A** and the estimated value you computed in **Part C**? "
   ]
  },
  {
   "cell_type": "markdown",
   "metadata": {
    "collapsed": true
   },
   "source": [
    "$E = p $, and this value does not agree with the value in Part A and Part C. Because the value of integral I computed in Part A and Part C is 2, however, expected value $E = p \\approx 0.637$"
   ]
  },
  {
   "cell_type": "markdown",
   "metadata": {},
   "source": [
    "**Part G**: Compute the variance of the random variable you described in **Part D** by hand.  Does this value agree with the sample variance observed in **Part C**? "
   ]
  },
  {
   "cell_type": "markdown",
   "metadata": {
    "collapsed": true
   },
   "source": [
    "$V = p*(1-p) = \\frac{2}{\\pi} * (1-\\frac{2}{\\pi}) \\approx 0.2314$.  so that this value agrees with the sample variance."
   ]
  },
  {
   "cell_type": "markdown",
   "metadata": {},
   "source": [
    "### [25 points] Problem 2 - Sampling Freshies\n",
    "***\n",
    "\n",
    "Maureen Ferguson stands alone on the riverbank. Snow has come to Colorado and flakes collect on her majestic pelt and whiskers. She shivers them off not because she is cold but just because her otter reflexes have been honed by millenia of adaptation. She is a biological machine. An inspiration. \n",
    "\n",
    "She wanders into her otter-mansion, hungry. There are piles RiverSnax from the autumn harvest. These are no ordinary RiverSnax, of course. They must be inspected with statistical care so that they are with high probability of the finest quality. You see, Maureen's snax have a freshness score, measured in Freshies, named after Professor Charles Snaxavier Fraeshmann. The average RiverSnack from her current supplier is 91 Freshies, and the standard deviation is 6 Freshies. \n",
    "\n",
    "You are new on the job, excited to apply your CSCI 3022 knowledge, and keen to prove yourself in a big and changing world. You are in charge of sampling the RiverSnax. Your boss, Governor John Hickenlotter, tells you that you must take a sample of Snax and that the average freshness must be no less than 90 Freshies. If the average is below 90 Freshies, the whole pile of RiverSnax must be thrown away, rejected. The current system, when you arrive is to sample 30 snax from each pile to see if the average freshness is above the 90 Freshies threshold. \n",
    "\n",
    "**Part A**:  Say \"Freshies Threshold\" at least 10 times in a row, as quickly as possible. Do not show your work. \n",
    "\n"
   ]
  },
  {
   "cell_type": "code",
   "execution_count": 1,
   "metadata": {},
   "outputs": [
    {
     "name": "stdout",
     "output_type": "stream",
     "text": [
      "Freshies Threshold\n",
      "Freshies Threshold\n",
      "Freshies Threshold\n",
      "Freshies Threshold\n",
      "Freshies Threshold\n",
      "Freshies Threshold\n",
      "Freshies Threshold\n",
      "Freshies Threshold\n",
      "Freshies Threshold\n",
      "Freshies Threshold\n"
     ]
    }
   ],
   "source": [
    "for saying in range(10):\n",
    "    print(\"Freshies Threshold\")"
   ]
  },
  {
   "cell_type": "markdown",
   "metadata": {},
   "source": [
    "**Part B**: What is the probability that a RiverSnack is rejected under the current system of 30 samples?"
   ]
  },
  {
   "cell_type": "markdown",
   "metadata": {
    "collapsed": true
   },
   "source": [
    "We know that $\\mu = 91$ and $ \\sigma = 6$\n",
    "\n",
    "And we have a n = 30 sample, now we are looking for $P( \\bar{x} < 90  )$\n",
    "\n",
    "So we have $\\bar{x} \\sim N(91,\\frac{6^2}{30})$\n",
    "\n",
    "$\\sigma = \\sqrt{\\frac{36}{30}} \\approx 1.1$\n",
    "\n",
    "$Z = \\frac {90-91}{1.1} \\approx -0.912$\n",
    "\n",
    "According to the Z value table,$P(\\bar{x} < 90) \\approx 0.1814$ \n",
    "\n",
    "So the probability that a riversnack is rejected under the current system of 30 samples is 0.1814"
   ]
  },
  {
   "cell_type": "markdown",
   "metadata": {},
   "source": [
    "**Part C**: Well, that's not good enough. Not for our Maureen Ferguson. You propose to Governor Hickelotter that you will get RiverSnax from a new supplier. The new supplier's RiverSnax have a standard deviation of 6 Freshies, just like the old ones. But, they can harvest the RiverSnax from various parts of the river, to adjust the average Freshy level of the RiverSnax, $\\mu$. Gov. Hickenlotter's requirement is that the probability that a pile of RiverSnax is rejected is less than 0.001. What is the minimum average Freshy level $\\mu$ needed in order to achieve the Governor's requirement?\n"
   ]
  },
  {
   "cell_type": "markdown",
   "metadata": {
    "collapsed": true
   },
   "source": [
    "According to the z score table, if we want to the probability that a pile of Riversnax is rejected is less than 0.001, z score must less than -3.1. \n",
    "\n",
    "since $Z = \\frac{\\bar{x} - \\mu}{\\sigma}$, yields $\\frac{90 - \\mu}{6} < -3.1$, we have $\\mu > 108.6$"
   ]
  },
  {
   "cell_type": "markdown",
   "metadata": {},
   "source": [
    "**Part D**: You are about to submit your report, given your answer above, when you find out that the new supplier is going out of business. Ugh.  You are stuck with the old RiverSnax. But the Governor's requirement still stands: the probability that a pile of RiverSnax is rejected must be less than 0.001. You decide you'll just take more samples from the existing piles. Surely, the number must be greater than 30, but... what is the minimum number of samples that will ensure that each pile of RiverSnax is rejected with probability less than $0.001$?"
   ]
  },
  {
   "cell_type": "markdown",
   "metadata": {
    "collapsed": true
   },
   "source": [
    "Suppose that we take S samples.\n",
    "By using the equations in part B and part C:\n",
    "$\\frac{1}{\\sqrt{\\frac{36}{S}}} < -3.1$, yields $ \\frac{S}{36} <3.1^2$\n",
    "\n",
    "So we have S > 345.8, so we should take atleast 346 samples to ensure the probability is less than 0.001."
   ]
  },
  {
   "cell_type": "markdown",
   "metadata": {},
   "source": [
    "**[Extra Credt - 2 points] Part E**: Draw an ASCII picture of Maureen Ferguson. \n",
    "\n",
    " \n"
   ]
  },
  {
   "cell_type": "code",
   "execution_count": null,
   "metadata": {
    "collapsed": true
   },
   "outputs": [],
   "source": []
  },
  {
   "cell_type": "markdown",
   "metadata": {},
   "source": [
    "### [40 points] Problem 3 - Not-so-Easy Peasy Plinko \n",
    "***\n",
    "\n",
    "[Plinko](http://priceisright.wikia.com/wiki/Plinko), the shining jewel of the gameshow [Price is Right](https://en.wikipedia.org/wiki/The_Price_Is_Right), is a staple of American culture.  Luckily for us, it's also chalk-full of interesting ideas from probability and statistics. The game involves dropping a disc onto an inclined board of pegs and letting it bounce around until it lands in a bin with an associated cash value. Players get to drop some number of discs down the Plinko board and keep their winnings.   \n",
    "\n",
    "In class we looked at a simplified version of Plinko:  \n",
    "\n",
    "![alt text](http://danlarremore.com/misc/plinko1.png)\n",
    "\n",
    "\n",
    "In real life, Plinko has boundaries, positioned symmetrically around the center $c$ at positions $\\ell$ and $r$ s.t. $|c-\\ell| = |c+r|$. The effect of the boundaries are that when the Plinko disc hits the boundary, it can only move back toward the center. In other words, if the disc hits the boundary at $\\ell$, it can only go right at that level. Likewise, if the disc hits the boundary at $r$, it can only go left at that level. \n",
    "\n",
    "For instance, the following board depicts a Plinko game with boundaries at $0.5$ (halfway between the centers of Buckets 0 and 1) and $5.5$ (halfway between Buckets 5 and 6)  The red pegs indicate boundary pegs on which the disc always moves toward the center.   \n",
    "\n",
    "![alt text](http://danlarremore.com/misc/plinko2.png)\n"
   ]
  },
  {
   "cell_type": "markdown",
   "metadata": {},
   "source": [
    "**Part A**: Write a simulator of Plinko that models the disc moving through each of the 6 rows of pegs to its final destination in one of the 7 bins. Let $X$ be the random variable corresponding to the Bucket that the disc lands in. Run your simulation for at least $10K$ trials and plot a density histogram estimate of the PMF of $X$ when the probability of moving left or right when hitting a peg is equal to $p = 0.5$. "
   ]
  },
  {
   "cell_type": "code",
   "execution_count": 29,
   "metadata": {},
   "outputs": [
    {
     "data": {
      "text/plain": [
       "0"
      ]
     },
     "execution_count": 29,
     "metadata": {},
     "output_type": "execute_result"
    }
   ],
   "source": [
    "int(np.random.randint(2,size=1))"
   ]
  },
  {
   "cell_type": "code",
   "execution_count": 42,
   "metadata": {},
   "outputs": [
    {
     "data": {
      "text/plain": [
       "array([ 2.,  4.,  2., ...,  1.,  4.,  2.])"
      ]
     },
     "execution_count": 42,
     "metadata": {},
     "output_type": "execute_result"
    },
    {
     "data": {
      "image/png": "[encoded data removed]",
      "text/plain": [
       "<matplotlib.figure.Figure at 0x1175eb8d0>"
      ]
     },
     "metadata": {},
     "output_type": "display_data"
    }
   ],
   "source": [
    "def sim_plinko(num_trial):\n",
    "    data1 = np.array([])\n",
    "    for z in range(num_trial):\n",
    "        x = 3 \n",
    "        a = 0\n",
    "        for i in range(6):\n",
    "            a = int(np.random.randint(2,size = 1))\n",
    "            if (a == 1):\n",
    "                x = x+0.5\n",
    "            else:\n",
    "                x = x -0.5\n",
    "        data1 = np.append(data1,x)\n",
    "    \n",
    "    plt.hist(data1, bins=[0,1,2,3,4,5,6,7])\n",
    "    plt.show\n",
    "    plt.xlabel('Bins')\n",
    "    plt.ylabel('Trails')\n",
    "    plt.title(\"Histogram with no boundary\")\n",
    "    plt.grid(True)\n",
    "    return data1\n",
    "sim_plinko(10000)"
   ]
  },
  {
   "cell_type": "markdown",
   "metadata": {},
   "source": [
    "**Part B**: Let $X$ be the random variable corresponding to the Bucket that the disc lands in.  Write down the **true** PMF for $X$. (**Hint**: It might be helpful to reflect back on the discussion from Lecture 11). "
   ]
  },
  {
   "cell_type": "markdown",
   "metadata": {
    "collapsed": true
   },
   "source": [
    "$\\dbinom{n}{k} {p^k}{(1-p)}^{(n-k)}$, where n =6, p = 0.5. And we can rewrite as: $\\dbinom{6}{k} 0.5^6$. k is the Bucket that the disc land in."
   ]
  },
  {
   "cell_type": "markdown",
   "metadata": {},
   "source": [
    "**Part C**: Write a simulator for Plinko with boundaries. Your code should be similar to your code from **Part A**, but should take in two variable boundaries, left_bound and right_bound, corresponding to the location of the left boundary and right boundary, respectively. \n"
   ]
  },
  {
   "cell_type": "code",
   "execution_count": 92,
   "metadata": {},
   "outputs": [],
   "source": [
    "def sim_plinko_bound(num_trial,left_bound,right_bound):\n",
    "    data2 = np.array([])\n",
    "    for z in range(num_trial):\n",
    "        x = 3 \n",
    "        a = 0\n",
    "        for i in range(6):\n",
    "            if (x!= left_bound+0.5 and x != right_bound-0.5):   \n",
    "                a = int(np.random.randint(2,size = 1))\n",
    "                if (a == 1):\n",
    "                    x = x+0.5\n",
    "                else:\n",
    "                    x = x -0.5\n",
    "            else:\n",
    "                a = int(np.random.randint(2,size = 1))\n",
    "                if (a == 1 ):\n",
    "                    if (x != right_bound-0.5):\n",
    "                        x = x+0.5\n",
    "                    else:\n",
    "                        x = x - 0.5\n",
    "                elif(a == 0):\n",
    "                    if (x != left_bound+0.5):\n",
    "                        x = x -0.5\n",
    "                    else :\n",
    "                        x = x + 0.5\n",
    "        data2 = np.append(data2,x)\n",
    "    \n",
    "    plt.hist(data2, bins=[0,1,2,3,4,5,6,7])\n",
    "    plt.show\n",
    "    plt.xlabel('Bins')\n",
    "    plt.ylabel('Trails')\n",
    "    #plt.ylim(0,num_trial/3)\n",
    "    plt.title(\"Histogram with no bin 0 and 6\")\n",
    "    plt.grid(True)\n",
    "    return data2\n"
   ]
  },
  {
   "cell_type": "markdown",
   "metadata": {},
   "source": [
    "**Part D**: Consider the board with left_bound $= 0.5$ which looks as follows: \n",
    "\n",
    "![alt text](http://danlarremore.com/misc/plinko3.png)\n",
    "\n",
    "Let $X$ be the random variable corresponding to the Bucket that the disc lands in. Run your simulation for at least $10K$ trials and plot a density histogram estimate of the PMF of $X$. Compare the approximate PMF for this board to the no-boundary board from **Part A**. Explain the mechanism that causes the differences between the two PMFs in words. \n",
    "\n",
    "\n"
   ]
  },
  {
   "cell_type": "code",
   "execution_count": 93,
   "metadata": {},
   "outputs": [
    {
     "data": {
      "text/plain": [
       "array([ 3.,  3.,  2., ...,  2.,  3.,  4.])"
      ]
     },
     "execution_count": 93,
     "metadata": {},
     "output_type": "execute_result"
    },
    {
     "data": {
      "image/png": "[encoded data removed]",
      "text/plain": [
       "<matplotlib.figure.Figure at 0x116a228d0>"
      ]
     },
     "metadata": {},
     "output_type": "display_data"
    }
   ],
   "source": [
    "sim_plinko_bound(10000,0,0)"
   ]
  },
  {
   "cell_type": "markdown",
   "metadata": {},
   "source": [
    "According to the graph we made above, we could find that the approximate PMF:\n",
    "$$\n",
    "F(y) =\\left\\{\n",
    "\\begin{array}{11}\n",
    "\\dbinom{6}{k} 0.5^6 & n = 2,3,4,5,6\\\\\n",
    "\\dbinom{6}{1} 0.5^6 + \\dbinom{6}{0}0.5^6& n = 1\\\\\n",
    "0 & \\textrm{otherwise}\n",
    "\\end {array}\n",
    "\\right.\n",
    "$$\n",
    "\n",
    "Because when the disc = 0.5, it won't go to bin 0, and it must go to bin 1, so the probability of bin 1 increased."
   ]
  },
  {
   "cell_type": "markdown",
   "metadata": {},
   "source": [
    "**Part E**: Now consider the board with left_bound $= 1.5$ which looks as follows: \n",
    "\n",
    "![alt text](http://danlarremore.com/misc/plinko4.png)\n",
    "\n",
    "Let $X$ be the random variable corresponding to the Bucket that the disc lands in. Run your simulation for at least $10K$ trials and plot a density histogram estimate of the PMF of $X$. Compare the approximate PMF for this board to the boards from **Parts A** and **D**. Explain the mechanism that causes the differences between the three PMFs in words. \n"
   ]
  },
  {
   "cell_type": "code",
   "execution_count": 91,
   "metadata": {},
   "outputs": [
    {
     "data": {
      "text/plain": [
       "array([ 3.,  3.,  4., ...,  2.,  2.,  3.])"
      ]
     },
     "execution_count": 91,
     "metadata": {},
     "output_type": "execute_result"
    },
    {
     "data": {
      "image/png": "[encoded data removed]",
      "text/plain": [
       "<matplotlib.figure.Figure at 0x116a44978>"
      ]
     },
     "metadata": {},
     "output_type": "display_data"
    }
   ],
   "source": [
    "sim_plinko_bound(30000,1.5,1.5)"
   ]
  },
  {
   "cell_type": "markdown",
   "metadata": {},
   "source": [
    "As the part D showed, since we set bound at left = 1.5, the probability that belong to bin 0 and bin 1 would goes to bin 2, which would also increase the probability of bin 2."
   ]
  },
  {
   "cell_type": "markdown",
   "metadata": {},
   "source": [
    "**Part F**: OK, one more. Consider the board with left_bound $= 1.5$ and right_bound $= 5.5$ which looks as follows: \n",
    "\n",
    "![alt text](http://danlarremore.com/misc/plinko5.png)\n",
    "\n",
    "Let $X$ be the random variable corresponding to the Bucket that the disc lands in. Use your observations from **Parts A-D** to write down the **true** PMF of $X$. \n",
    "\n",
    "\n"
   ]
  },
  {
   "cell_type": "code",
   "execution_count": 94,
   "metadata": {},
   "outputs": [
    {
     "data": {
      "text/plain": [
       "array([ 5.,  4.,  2., ...,  2.,  4.,  3.])"
      ]
     },
     "execution_count": 94,
     "metadata": {},
     "output_type": "execute_result"
    },
    {
     "data": {
      "image/png": "[encoded data removed]",
      "text/plain": [
       "<matplotlib.figure.Figure at 0x117266cf8>"
      ]
     },
     "metadata": {},
     "output_type": "display_data"
    }
   ],
   "source": [
    "sim_plinko_bound(30000,1.5,6)"
   ]
  },
  {
   "cell_type": "markdown",
   "metadata": {},
   "source": [
    "**Part G**: Suppose I challenge you to a _friendly_ game of Plinko on the board from **Part F**. I offer to pay you a dollar amount equal to the bucket that your disc lands in, but also charge you a flat fee for each disc that you play.  How much should I charge you per disc so that we break even in the long run? "
   ]
  },
  {
   "cell_type": "markdown",
   "metadata": {
    "collapsed": true
   },
   "source": []
  },
  {
   "cell_type": "markdown",
   "metadata": {},
   "source": [
    "### Challenge Fun Problem [0 points] - Real-Deal Plinko \n",
    "***\n",
    "\n",
    "Implement a full-blown Plinko simulator based on the actual board from Price is Right, which allows you to choose where to place the disc at the top of the board.  \n",
    "\n",
    "![alt text](https://i.pinimg.com/736x/7d/4b/5b/7d4b5b9ba5cdeceea16433eaadeeaf13--mash-game-plinko-game.jpg)\n",
    "\n",
    "You can actually do this using mostly your code from **Problem 3** and some careful handling of the boundaries relative to where you drop the disc.  Investigate questions like \"What is the optimal position to drop the disc to maximize expected winnings?\" and \"What are the expected winnings if you play Plinko optimally?\"\n",
    "\n",
    "Once you're done with that, it's time to go full-on Meta-Plinko.  Suppose the boundaries of the Plinko board are in their true positions from the real game show, but the board can have an arbitrary number of rows.  Is there a minimum number of rows the board can have at which point the PMF for the distribution becomes approximately uniform?  If not, is there a Bucket, or set of Buckets, that always have a greater chance of claiming the disc? \n"
   ]
  },
  {
   "cell_type": "code",
   "execution_count": null,
   "metadata": {
    "collapsed": true
   },
   "outputs": [],
   "source": []
  }
 ],
 "metadata": {
  "kernelspec": {
   "display_name": "Python 3",
   "language": "python",
   "name": "python3"
  },
  "language_info": {
   "codemirror_mode": {
    "name": "ipython",
    "version": 3
   },
   "file_extension": ".py",
   "mimetype": "text/x-python",
   "name": "python",
   "nbconvert_exporter": "python",
   "pygments_lexer": "ipython3",
   "version": "3.6.3"
  }
 },
 "nbformat": 4,
 "nbformat_minor": 2
}
