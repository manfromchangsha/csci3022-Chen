{
 "cells": [
  {
   "cell_type": "markdown",
   "metadata": {},
   "source": [
    "# Lecture 19: Small Sample Tests for Mean and Variance of Normal Populations\n",
    "***\n",
    "\n",
    "We'll need Numpy, Matplotlib, Pandas, and scipy.stats for this notebook, so let's load them. "
   ]
  },
  {
   "cell_type": "code",
   "execution_count": 1,
   "metadata": {
    "collapsed": true
   },
   "outputs": [],
   "source": [
    "import numpy as np \n",
    "from scipy import stats\n",
    "import pandas as pd\n",
    "import matplotlib.pylab as plt \n",
    "%matplotlib inline"
   ]
  },
  {
   "cell_type": "markdown",
   "metadata": {},
   "source": [
    "### Exercise 1 - The Sampling Distribution for the Variance of a Normal Population \n",
    "*** \n",
    "\n",
    "We saw some time ago that the sample mean of a normal population itself has a normal distribution.  In this exercise we'll explore the sampling distribution of the sample variance from a normal population.  \n",
    "\n",
    "**Part A**: The following function draws many samples of size $n$ from $N(\\mu, \\sigma^2)$ and plots a histogram of the resulting sample means.  Run the code a few times and verify that the sampling distribution does appear normal, even for small sample sizes.  "
   ]
  },
  {
   "cell_type": "code",
   "execution_count": 4,
   "metadata": {},
   "outputs": [
    {
     "data": {
      "image/png": "[encoded data removed]",
      "text/plain": [
       "<matplotlib.figure.Figure at 0x1a1842a630>"
      ]
     },
     "metadata": {},
     "output_type": "display_data"
    }
   ],
   "source": [
    "def sampling_dist(num_tests=5000, sample_size=10, mu=5, sig=2): \n",
    "    \n",
    "    fig, ax = plt.subplots(nrows=1, ncols=1, figsize=(16,6))\n",
    "    xbars = np.array([np.mean(stats.norm.rvs(mu, sig, size=sample_size)) for ii in range(num_tests)])\n",
    "    pd.Series(xbars).hist(ax=ax, color=\"steelblue\", edgecolor=\"white\", bins=20, normed=True)\n",
    "    ax.grid(alpha=0.25)\n",
    "    ax.set_axisbelow(True)\n",
    "    ax.set_ylabel(\"Density\", fontsize=16)\n",
    "    \n",
    "sampling_dist(num_tests=5000, sample_size=100, mu=2, sig=2)"
   ]
  },
  {
   "cell_type": "markdown",
   "metadata": {
    "collapsed": true
   },
   "source": [
    "**Part B**: Modify the code above so that it plots a histogram of the **sample variance** of samples from $N(\\mu,\\sigma^2)$.  Experiment with the parameters $\\mu$, $\\sigma$, and _in-particular_ the sample size (starting with values of $n \\approx 5$). Describe the resulting distributions. "
   ]
  },
  {
   "cell_type": "code",
   "execution_count": null,
   "metadata": {
    "collapsed": true
   },
   "outputs": [],
   "source": []
  },
  {
   "cell_type": "markdown",
   "metadata": {
    "collapsed": true
   },
   "source": [
    "**Part C**: Modify the code above so that it simulates $(n-1)S^2/\\sigma^2$, creates the histogram, and then overlays the associated density function of the proper $\\chi^2_\\nu$ distribution (obtained from scipy.stats.chi2). \n",
    "\n",
    "**Hint**: If you're using np.var to compute the sample variance, know that it takes an optional argument ddof that determines the denominator that divides the sum of squared deviations.  Passing in ddof=1 will give the traditional sample variance. "
   ]
  },
  {
   "cell_type": "code",
   "execution_count": null,
   "metadata": {
    "collapsed": true
   },
   "outputs": [],
   "source": []
  },
  {
   "cell_type": "markdown",
   "metadata": {},
   "source": [
    "### Exercise 2 - Small Sample vs Bootstrapped Confidence Intervals \n",
    "*** \n",
    "\n",
    "In this exercise you will compare the confidence intervals achieved using the small-sample techniques discussed in class and empirical bootstrapped confidence intervals. For all tests we will use a random sample of size $n=10$ from the normal population distribution with parameters $\\mu=5$ and $\\sigma=2$.  "
   ]
  },
  {
   "cell_type": "code",
   "execution_count": null,
   "metadata": {
    "collapsed": true
   },
   "outputs": [],
   "source": [
    "mu, sig, n, alpha = 5, 2, 10, 0.05\n",
    "x = stats.norm.rvs()"
   ]
  },
  {
   "cell_type": "markdown",
   "metadata": {},
   "source": [
    "**Part A**: Compute a 95% t-confidence interval for the population mean based on the sample mean.  "
   ]
  },
  {
   "cell_type": "code",
   "execution_count": null,
   "metadata": {
    "collapsed": true
   },
   "outputs": [],
   "source": []
  },
  {
   "cell_type": "markdown",
   "metadata": {},
   "source": [
    "**Part B**: Computed an empirical bootstrapped 95% confidence interval for the population mean using the same sample used in **Part A**.  How do the confidence intervals compare?  Do they both cover the true mean of $\\mu=5$?  Are they approximately the same width? "
   ]
  },
  {
   "cell_type": "code",
   "execution_count": null,
   "metadata": {
    "collapsed": true
   },
   "outputs": [],
   "source": []
  },
  {
   "cell_type": "markdown",
   "metadata": {},
   "source": [
    "**Part C**: Compute a 95% confidence interval for the population variance based on the $\\chi^2$ distribution using the same sample used in **Part A**. "
   ]
  },
  {
   "cell_type": "code",
   "execution_count": null,
   "metadata": {
    "collapsed": true
   },
   "outputs": [],
   "source": []
  },
  {
   "cell_type": "markdown",
   "metadata": {},
   "source": [
    "**Part D**: Computed an empirical bootstrapped 95% confidence interval for the population variance using the same sample as in **Part A**.  How do the confidence intervals compare?  Do they both cover the true variance of $\\sigma^2=4$?  Are they approximately the same width? "
   ]
  },
  {
   "cell_type": "code",
   "execution_count": null,
   "metadata": {
    "collapsed": true
   },
   "outputs": [],
   "source": []
  }
 ],
 "metadata": {
  "kernelspec": {
   "display_name": "Python 3",
   "language": "python",
   "name": "python3"
  },
  "language_info": {
   "codemirror_mode": {
    "name": "ipython",
    "version": 3
   },
   "file_extension": ".py",
   "mimetype": "text/x-python",
   "name": "python",
   "nbconvert_exporter": "python",
   "pygments_lexer": "ipython3",
   "version": "3.6.3"
  }
 },
 "nbformat": 4,
 "nbformat_minor": 2
}
